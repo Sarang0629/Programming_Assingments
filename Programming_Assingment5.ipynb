{
 "cells": [
  {
   "cell_type": "code",
   "execution_count": 1,
   "id": "1c8f2047",
   "metadata": {},
   "outputs": [
    {
     "name": "stdout",
     "output_type": "stream",
     "text": [
      "Number 01 : 789\n",
      "Number 01: 562\n",
      "The L.C.M. is 443418\n"
     ]
    }
   ],
   "source": [
    "##1.\tWrite a Python Program to Find LCM\n",
    "#Ans.\n",
    "# Python Program to find the L.C.M. of two input number\n",
    "\n",
    "def lcm(x, y):\n",
    "    \n",
    "   if x > y:\n",
    "       greater = x\n",
    "   else:\n",
    "       greater = y\n",
    "\n",
    "   while(True):\n",
    "       if((greater % x == 0) and (greater % y == 0)):\n",
    "           lcm = greater\n",
    "           break\n",
    "       greater += 1\n",
    "\n",
    "   return lcm\n",
    "\n",
    "N1 = int(input(\"Number 01 : \"))\n",
    "N2 = int(input(\"Number 01: \"))\n",
    "\n",
    "print(\"The L.C.M. is\", lcm(N1, N2))"
   ]
  },
  {
   "cell_type": "code",
   "execution_count": 2,
   "id": "373bccad",
   "metadata": {},
   "outputs": [
    {
     "name": "stdout",
     "output_type": "stream",
     "text": [
      "Number 01 : 45\n",
      "Number 01: 25\n",
      "The H.C.F. is 5\n"
     ]
    }
   ],
   "source": [
    "##2.\tWrite a Python Program to Find HCF?\n",
    "#Ans.\n",
    "\n",
    "def hcf(x, y):\n",
    "    if x > y:\n",
    "        smaller = y\n",
    "    else:\n",
    "        smaller = x\n",
    "    for i in range(1, smaller+1):\n",
    "        if((x % i == 0) and (y % i == 0)):\n",
    "            hcf = i \n",
    "    return hcf\n",
    "\n",
    "N1 = int(input(\"Number 01 : \"))\n",
    "N2 = int(input(\"Number 01: \"))\n",
    "\n",
    "print(\"The H.C.F. is\", hcf(N1,N2))"
   ]
  },
  {
   "cell_type": "code",
   "execution_count": 3,
   "id": "daa8a3b4",
   "metadata": {},
   "outputs": [
    {
     "name": "stdout",
     "output_type": "stream",
     "text": [
      "Enter the Decimal Value : 0\n",
      "The decimal value of 0 is:\n",
      "After Conversion : \n",
      "The value in Binary:  0b0\n",
      "The value in Octal:  0o0\n",
      "The value in Hexadecimal:  0x0\n"
     ]
    }
   ],
   "source": [
    "##3.\tWrite a Python Program to Convert Decimal to Binary, Octal and Hexadecimal?\n",
    "\n",
    "#Ans.\n",
    "\n",
    "Value = int(input(\"Enter the Decimal Value : \"))\n",
    "print(\"The decimal value of\", Value, \"is:\")\n",
    "print(\"After Conversion : \")\n",
    "print(\"The value in Binary: \",bin(Value))\n",
    "print(\"The value in Octal: \",oct(Value))\n",
    "print(\"The value in Hexadecimal: \",hex(Value))"
   ]
  },
  {
   "cell_type": "code",
   "execution_count": 4,
   "id": "92b11510",
   "metadata": {},
   "outputs": [
    {
     "name": "stdout",
     "output_type": "stream",
     "text": [
      "Character : d\n",
      "The ASCII value of ' d ' is 100\n"
     ]
    }
   ],
   "source": [
    "##4.\tWrite a Python Program To Find ASCII value of a character?\n",
    "#Ans.\n",
    "\n",
    "d = input(\"Character : \")\n",
    "print(\"The ASCII value of '\" , d , \"' is\", ord(d))"
   ]
  },
  {
   "cell_type": "code",
   "execution_count": 6,
   "id": "2f07e907",
   "metadata": {},
   "outputs": [
    {
     "name": "stdout",
     "output_type": "stream",
     "text": [
      "+ : for Addition\n",
      "- : for Substraction\n",
      "* : for Multiplication\n",
      "/ : for Division\n",
      "Operation : +\n",
      "Enter first number: 63\n",
      "Enter second number: 5\n",
      "63.0 + 5.0 = 68.0\n",
      "Perform another Operation? (yes/no): no\n"
     ]
    }
   ],
   "source": [
    "##5.\tWrite a Python Program to Make a Simple Calculator with 4 basic mathematical operations?\n",
    "#Ans.\n",
    "def Add(x,y):\n",
    "    return x + y\n",
    "def Substract(x,y):\n",
    "    return x - y\n",
    "def Multiply(x,y):\n",
    "    return x*y\n",
    "def Divide(x,y):\n",
    "    return x / y\n",
    "\n",
    "print(\"+ : for Addition\")\n",
    "print(\"- : for Substraction\")\n",
    "print(\"* : for Multiplication\")\n",
    "print(\"/ : for Division\")\n",
    "\n",
    "while True:\n",
    "   \n",
    "    choice = input(\"Operation : \")\n",
    "\n",
    "    \n",
    "    if choice in ('+', '-', '*', '/'):\n",
    "        num1 = float(input(\"Enter first number: \"))\n",
    "        num2 = float(input(\"Enter second number: \"))\n",
    "\n",
    "        if choice == '+':\n",
    "            print(num1, \"+\", num2, \"=\", Add(num1, num2))\n",
    "\n",
    "        elif choice == '-':\n",
    "            print(num1, \"-\", num2, \"=\", Subtract(num1, num2))\n",
    "\n",
    "        elif choice == '*':\n",
    "            print(num1, \"*\", num2, \"=\", Multiply(num1, num2))\n",
    "\n",
    "        elif choice == '/':\n",
    "            print(num1, \"/\", num2, \"=\", Divide(num1, num2))\n",
    "            \n",
    "        Continue = input(\"Perform another Operation? (yes/no): \")\n",
    "        if Continue == \"no\":\n",
    "          break\n",
    "    \n",
    "    else:\n",
    "        print(\"Invalid Input\")\n"
   ]
  },
  {
   "cell_type": "code",
   "execution_count": null,
   "id": "b03baf83",
   "metadata": {},
   "outputs": [],
   "source": []
  }
 ],
 "metadata": {
  "kernelspec": {
   "display_name": "Python 3 (ipykernel)",
   "language": "python",
   "name": "python3"
  },
  "language_info": {
   "codemirror_mode": {
    "name": "ipython",
    "version": 3
   },
   "file_extension": ".py",
   "mimetype": "text/x-python",
   "name": "python",
   "nbconvert_exporter": "python",
   "pygments_lexer": "ipython3",
   "version": "3.9.12"
  }
 },
 "nbformat": 4,
 "nbformat_minor": 5
}
