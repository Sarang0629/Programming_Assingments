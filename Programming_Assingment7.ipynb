{
 "cells": [
  {
   "cell_type": "markdown",
   "id": "454ff896",
   "metadata": {},
   "source": [
    "**1.Write a Python Program to find sum of array?**"
   ]
  },
  {
   "cell_type": "code",
   "execution_count": 1,
   "id": "94223291",
   "metadata": {},
   "outputs": [
    {
     "name": "stdout",
     "output_type": "stream",
     "text": [
      "Sum of the array is  10046\n"
     ]
    }
   ],
   "source": [
    "import array as ar\n",
    "\n",
    "def SumofArray(arr):\n",
    "    sum=0\n",
    "    n = len(arr)\n",
    "    for i in range(n):\n",
    "        sum = sum + arr[i]\n",
    "    return sum\n",
    "  \n",
    "#input values to list \n",
    "a = ar.array('i',[10000, 21, 12, 13])\n",
    "  \n",
    "# display sum \n",
    "print ('Sum of the array is ', SumofArray(a) ) "
   ]
  },
  {
   "cell_type": "markdown",
   "id": "1db42db1",
   "metadata": {},
   "source": [
    "**2.Write a Python Program to find largest element in an array?**"
   ]
  },
  {
   "cell_type": "code",
   "execution_count": 2,
   "id": "b4d5d952",
   "metadata": {},
   "outputs": [
    {
     "name": "stdout",
     "output_type": "stream",
     "text": [
      "Largest element present in given array: 944\n"
     ]
    }
   ],
   "source": [
    "arr = [12,52,944,865]\n",
    "\n",
    "max = arr[0]\n",
    "\n",
    "for i in range(0, len(arr)):\n",
    "    if(arr[i] > max):\n",
    "        max = arr[i]    \n",
    "           \n",
    "print(\"Largest element present in given array: \" + str(max))"
   ]
  },
  {
   "cell_type": "markdown",
   "id": "25dfa024",
   "metadata": {},
   "source": [
    "**3.Write a Python Program for array rotation?**"
   ]
  },
  {
   "cell_type": "code",
   "execution_count": 3,
   "id": "1a9e5e4b",
   "metadata": {},
   "outputs": [],
   "source": [
    "def Array_Rotate(a,d):\n",
    "    temp = []\n",
    "    n=len(a)\n",
    "    for i in range(d,n):\n",
    "        temp.append(a[i])\n",
    "    i = 0\n",
    "    for i in range (0,d):\n",
    "        temp.append(a[i])\n",
    "    a=temp.copy()\n",
    "    return a"
   ]
  },
  {
   "cell_type": "code",
   "execution_count": 4,
   "id": "dea1ecd5",
   "metadata": {},
   "outputs": [
    {
     "name": "stdout",
     "output_type": "stream",
     "text": [
      "Result:  [3, 4, 5, 6, 7, 1, 2]\n"
     ]
    }
   ],
   "source": [
    "arr = [1, 2, 3, 4, 5, 6, 7]\n",
    "\n",
    "print(\"Result: \", end=' ')\n",
    "\n",
    "print(Array_Rotate(arr, 2))"
   ]
  },
  {
   "cell_type": "markdown",
   "id": "228004fa",
   "metadata": {},
   "source": [
    "**4.Write a Python Program to Split the array and add the first part to the end?**"
   ]
  },
  {
   "cell_type": "code",
   "execution_count": 5,
   "id": "681d908c",
   "metadata": {},
   "outputs": [
    {
     "name": "stdout",
     "output_type": "stream",
     "text": [
      "645 456 654 120 521 536 852 687 258 "
     ]
    }
   ],
   "source": [
    "def SplitArray(arr, n, k):\n",
    "    for i in range(0, k):\n",
    "        x = arr[0]\n",
    "        for j in range(0, n-1):\n",
    "            arr[j] = arr[j + 1]\n",
    "        arr[n-1] = x\n",
    "        \n",
    "arr = [120,521,536,852,687,258,645,456,654]\n",
    "n = len(arr)\n",
    "position = 6\n",
    "\n",
    "SplitArray(arr, n, position)\n",
    "for i in range(0, n):\n",
    "    print(arr[i], end = ' ')"
   ]
  },
  {
   "cell_type": "markdown",
   "id": "844be918",
   "metadata": {},
   "source": [
    "**5.Write a Python Program to check if given array is Monotonic?**"
   ]
  },
  {
   "cell_type": "code",
   "execution_count": 12,
   "id": "131fd271",
   "metadata": {},
   "outputs": [],
   "source": [
    "def ismonotone(a):\n",
    "    n=len(a) #size of array\n",
    "    if n==1:\n",
    "        return True\n",
    "    else:\n",
    "        #check for monotone behaviour\n",
    "        if all(a[i]>=a[i+1] for i in range(0,n-1)) or all(a[i]<=a[i+1] for i in range(0,n-1)):\n",
    "            return True\n",
    "        else:\n",
    "            return False"
   ]
  },
  {
   "cell_type": "code",
   "execution_count": 17,
   "id": "d5a0d87f",
   "metadata": {},
   "outputs": [
    {
     "name": "stdout",
     "output_type": "stream",
     "text": [
      "True\n",
      "True\n",
      "False\n"
     ]
    }
   ],
   "source": [
    "a = [12,14,16,18,20]\n",
    "print(ismonotone(a))\n",
    "\n",
    "b = [20,18,16,14,12]\n",
    "print(ismonotone(b))\n",
    "\n",
    "c = [12,45,32,11,10,8]\n",
    "print(ismonotone(c))"
   ]
  }
 ],
 "metadata": {
  "kernelspec": {
   "display_name": "Python 3 (ipykernel)",
   "language": "python",
   "name": "python3"
  },
  "language_info": {
   "codemirror_mode": {
    "name": "ipython",
    "version": 3
   },
   "file_extension": ".py",
   "mimetype": "text/x-python",
   "name": "python",
   "nbconvert_exporter": "python",
   "pygments_lexer": "ipython3",
   "version": "3.9.12"
  }
 },
 "nbformat": 4,
 "nbformat_minor": 5
}
