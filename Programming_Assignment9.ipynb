{
 "cells": [
  {
   "cell_type": "markdown",
   "id": "ea344fe2",
   "metadata": {},
   "source": [
    "1. Write a Python program to check if the given number is a Disarium Number?"
   ]
  },
  {
   "cell_type": "code",
   "execution_count": 9,
   "id": "348083a7",
   "metadata": {},
   "outputs": [
    {
     "name": "stdout",
     "output_type": "stream",
     "text": [
      "Not a Disarium Number\n"
     ]
    }
   ],
   "source": [
    "import math\n",
    "\n",
    "def is_disarium(n) :\n",
    "    count_digits = len(str(n))\n",
    "    sum = 0 \n",
    "    x = n\n",
    "    while (x!=0) :\n",
    "        r = x % 10\n",
    "        sum = (int) (sum + math.pow(r, count_digits))\n",
    "        count_digits = count_digits - 1\n",
    "        x = x//10\n",
    "\n",
    "    if sum == n :\n",
    "        return 1\n",
    "    else :\n",
    "        return 0\n",
    "\n",
    "n = 80\n",
    "if (is_disarium(n) == 1) :\n",
    "    print (\"Disarium Number\")\n",
    "else :\n",
    "    print (\"Not a Disarium Number\")\n"
   ]
  },
  {
   "cell_type": "markdown",
   "id": "ebd921d7",
   "metadata": {},
   "source": [
    "2. Write a Python program to print all disarium numbers between 1 to 100?"
   ]
  },
  {
   "cell_type": "code",
   "execution_count": 1,
   "id": "b56c5049",
   "metadata": {},
   "outputs": [
    {
     "name": "stdout",
     "output_type": "stream",
     "text": [
      "Disarium numbers between 1 and 100 are\n",
      "1\n",
      "2\n",
      "3\n",
      "4\n",
      "5\n",
      "6\n",
      "7\n",
      "8\n",
      "9\n"
     ]
    }
   ],
   "source": [
    "def Length(n):    \n",
    "    length = 0    \n",
    "    while(n != 0):\n",
    "        length = length + 1    \n",
    "        n = n//10    \n",
    "    return length    \n",
    "     \n",
    "\n",
    "def sumdigit(num):    \n",
    "    rem = sum = 0    \n",
    "    len = Length(num)\n",
    "    \n",
    "    while(num > 0):    \n",
    "        rem = num;   \n",
    "        sum = sum + (rem**len)    \n",
    "        num = num//10    \n",
    "        len = len - 1    \n",
    "    return sum    \n",
    "      \n",
    "result = 0    \n",
    "print(\"Disarium numbers between 1 and 100 are\")    \n",
    "\n",
    "for i in range(1, 101):\n",
    "    result = sumdigit(i)    \n",
    "        \n",
    "    if(result == i):    \n",
    "        print(i)"
   ]
  },
  {
   "cell_type": "markdown",
   "id": "b448e871",
   "metadata": {},
   "source": [
    "3.\tWrite a Python program to check if the given number is Happy Number?"
   ]
  },
  {
   "cell_type": "code",
   "execution_count": 37,
   "id": "fbe296f3",
   "metadata": {},
   "outputs": [
    {
     "name": "stdout",
     "output_type": "stream",
     "text": [
      "enter the number : 100\n",
      "100 is happy number\n"
     ]
    }
   ],
   "source": [
    "def sumofdigit(n):\n",
    "    result = 0\n",
    "    remainder = 0\n",
    "    \n",
    "    while n > 0 :\n",
    "        remainder =  n%10\n",
    "        result = result + remainder * remainder\n",
    "        n = n // 10\n",
    "    return result\n",
    "        \n",
    "n = int(input(\"enter the number : \"))\n",
    "result1 = n\n",
    "while result1 != 1 and result1 != 4:\n",
    "    result1 = sumofdigit(result1)\n",
    "if result1 == 1:\n",
    "    print(n,\"is happy number\")\n",
    "else:\n",
    "    print(n,\"is not happy number\")"
   ]
  },
  {
   "cell_type": "markdown",
   "id": "b8e8845e",
   "metadata": {},
   "source": [
    "4. Write a Python program to print all happy numbers between 1 and 100?"
   ]
  },
  {
   "cell_type": "code",
   "execution_count": 50,
   "id": "6364ba6c",
   "metadata": {},
   "outputs": [
    {
     "name": "stdout",
     "output_type": "stream",
     "text": [
      "1\n",
      "7\n",
      "10\n",
      "13\n",
      "19\n",
      "23\n",
      "28\n",
      "31\n",
      "32\n",
      "44\n",
      "49\n",
      "68\n",
      "70\n",
      "79\n",
      "82\n",
      "86\n",
      "91\n",
      "94\n",
      "97\n",
      "100\n"
     ]
    }
   ],
   "source": [
    "def sumofdigit(n):\n",
    "    result = 0\n",
    "    remainder = 0\n",
    "    \n",
    "    while n > 0 :\n",
    "        remainder =  n%10\n",
    "        result = result + remainder * remainder\n",
    "        n = n // 10\n",
    "    return result\n",
    "        \n",
    "for i in range(1, 101):    \n",
    "    result1 = i\n",
    "    \n",
    "    while(result1 != 1 and result1 != 4):    \n",
    "        result1 = sumofdigit(result1)    \n",
    "        \n",
    "    if(result1 == 1):    \n",
    "        print(i)"
   ]
  },
  {
   "cell_type": "markdown",
   "id": "ac462a27",
   "metadata": {},
   "source": [
    "5. Write a Python program to determine whether the given number is a Harshad Number?"
   ]
  },
  {
   "cell_type": "code",
   "execution_count": 3,
   "id": "30aa0103",
   "metadata": {},
   "outputs": [
    {
     "name": "stdout",
     "output_type": "stream",
     "text": [
      "Enter the Number to Check Harshad Number = 753\n",
      "The Sum of the Digits = 15\n",
      "753 is Not a Harshad Number.\n"
     ]
    }
   ],
   "source": [
    "Number = int(input(\"Enter the Number to Check Harshad Number = \"))\n",
    "Sum = 0\n",
    "remainder = 0\n",
    "\n",
    "Temp = Number\n",
    "while Temp > 0:\n",
    "    remainder = Temp % 10\n",
    "    Sum = Sum + remainder\n",
    "    Temp = Temp // 10\n",
    "\n",
    "print(\"The Sum of the Digits = %d\" %Sum)\n",
    "\n",
    "if Number % Sum == 0:\n",
    "    print(\"\\n%d is a Harshad Number.\" %Number)\n",
    "else:\n",
    "    print(\"%d is Not a Harshad Number.\" %Number)"
   ]
  },
  {
   "cell_type": "markdown",
   "id": "e2b0997f",
   "metadata": {},
   "source": [
    "6.\tWrite a Python program to print all pronic numbers between 1 and 100?"
   ]
  },
  {
   "cell_type": "code",
   "execution_count": 6,
   "id": "62339a56",
   "metadata": {},
   "outputs": [
    {
     "name": "stdout",
     "output_type": "stream",
     "text": [
      "0 2 6 12 20 30 42 56 72 90 110 132 156 182 "
     ]
    }
   ],
   "source": [
    "import math\n",
    "\n",
    "def Pronic (x) :\n",
    "    i = 0\n",
    "    while (i <= (int)(math.sqrt(x))):\n",
    "        if ( x == i * (i + 1)) :\n",
    "            return True\n",
    "        i = i + 1\n",
    "    return False\n",
    "\n",
    "i = 0\n",
    "while (i <= 200 ) :\n",
    "    if checkPronic(i) :\n",
    "        print(i,end=\" \")\n",
    "    i = i + 1"
   ]
  }
 ],
 "metadata": {
  "kernelspec": {
   "display_name": "Python 3 (ipykernel)",
   "language": "python",
   "name": "python3"
  },
  "language_info": {
   "codemirror_mode": {
    "name": "ipython",
    "version": 3
   },
   "file_extension": ".py",
   "mimetype": "text/x-python",
   "name": "python",
   "nbconvert_exporter": "python",
   "pygments_lexer": "ipython3",
   "version": "3.9.12"
  }
 },
 "nbformat": 4,
 "nbformat_minor": 5
}
