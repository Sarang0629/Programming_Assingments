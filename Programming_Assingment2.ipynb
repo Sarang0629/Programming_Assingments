{
 "cells": [
  {
   "cell_type": "code",
   "execution_count": 1,
   "id": "393b706f",
   "metadata": {},
   "outputs": [
    {
     "name": "stdout",
     "output_type": "stream",
     "text": [
      "Km:96\n",
      "Miles: 59.65163423999999\n"
     ]
    }
   ],
   "source": [
    "##1.\tWrite a Python program to convert kilometers to miles?\n",
    "\n",
    "#Ans.\n",
    "\n",
    "Kilometers = float(input(\"Km:\"))\n",
    "\n",
    "#the rate of conversion for km to mile is 1km equals to 0.62137119miles\n",
    "\n",
    "rate_conv = 0.62137119\n",
    "\n",
    "Miles = Kilometers * rate_conv\n",
    "\n",
    "print(\"Miles:\", Miles)"
   ]
  },
  {
   "cell_type": "code",
   "execution_count": 2,
   "id": "051cee78",
   "metadata": {},
   "outputs": [
    {
     "name": "stdout",
     "output_type": "stream",
     "text": [
      "Temperature in Degree Celsius: 78\n",
      "Degree_Fahrenheit:  172.4\n"
     ]
    }
   ],
   "source": [
    "##2.\tWrite a Python program to convert Celsius to Fahrenheit?\n",
    "\n",
    "#Ans.\n",
    "\n",
    "Degree_Celsius = float(input(\"Temperature in Degree Celsius: \"))\n",
    "\n",
    "Degree_Fahrenheit = (Degree_Celsius * 9/5)+32\n",
    "\n",
    "print(\"Degree_Fahrenheit: \", Degree_Fahrenheit)"
   ]
  },
  {
   "cell_type": "code",
   "execution_count": 3,
   "id": "3e93ad9c",
   "metadata": {},
   "outputs": [
    {
     "name": "stdout",
     "output_type": "stream",
     "text": [
      "Month of Year: 09\n",
      "Year: 1997\n",
      "   September 1997\n",
      "Mo Tu We Th Fr Sa Su\n",
      " 1  2  3  4  5  6  7\n",
      " 8  9 10 11 12 13 14\n",
      "15 16 17 18 19 20 21\n",
      "22 23 24 25 26 27 28\n",
      "29 30\n",
      "\n"
     ]
    }
   ],
   "source": [
    "##3.\tWrite a Python program to display calendar?\n",
    "\n",
    "#Ans.\n",
    "\n",
    "import calendar\n",
    "\n",
    "Month = int(input(\"Month of Year: \"))\n",
    "Year = int(input(\"Year: \"))\n",
    "\n",
    "print(calendar.month(Year,Month))"
   ]
  },
  {
   "cell_type": "code",
   "execution_count": 4,
   "id": "9c744484",
   "metadata": {},
   "outputs": [
    {
     "name": "stdout",
     "output_type": "stream",
     "text": [
      "Value of a: 55\n",
      "Value of b: 22\n",
      "Value of c: 23\n",
      "Solution 01:  (-0.2-0.6149648918286459j)\n",
      "Solution 02:  (-0.2+0.6149648918286459j)\n"
     ]
    }
   ],
   "source": [
    "##4.\tWrite a Python program to solve quadratic equation?\n",
    "\n",
    "#Ans.\n",
    "\n",
    "# to solve quadratic question formula is : (-b ± (b ** 2 - 4 * a * c) ** 0.5) / (2 * a)\n",
    "\n",
    "import cmath\n",
    "\n",
    "a = float(input(\"Value of a: \"))\n",
    "b = float(input(\"Value of b: \"))\n",
    "c = float(input(\"Value of c: \"))\n",
    "\n",
    "\n",
    "d = (b**2) - (4*a*c)\n",
    "\n",
    "\n",
    "sol1 = (-b-cmath.sqrt(d))/(2*a)\n",
    "sol2 = (-b+cmath.sqrt(d))/(2*a)\n",
    "\n",
    "print(\"Solution 01: \",sol1)\n",
    "print(\"Solution 02: \",sol2)"
   ]
  },
  {
   "cell_type": "code",
   "execution_count": 5,
   "id": "855c3db1",
   "metadata": {},
   "outputs": [
    {
     "name": "stdout",
     "output_type": "stream",
     "text": [
      "a: 4\n",
      "b: 5\n",
      "a: 5.0 b: 4.0\n"
     ]
    }
   ],
   "source": [
    "##5.\tWrite a Python program to swap two variables without temp variable?\n",
    "\n",
    "#Ans.\n",
    "\n",
    "a = float(input(\"a: \"))\n",
    "b = float(input(\"b: \"))\n",
    "\n",
    "a,b = b,a\n",
    "print(\"a:\",a,\"b:\",b)"
   ]
  }
 ],
 "metadata": {
  "kernelspec": {
   "display_name": "Python 3 (ipykernel)",
   "language": "python",
   "name": "python3"
  },
  "language_info": {
   "codemirror_mode": {
    "name": "ipython",
    "version": 3
   },
   "file_extension": ".py",
   "mimetype": "text/x-python",
   "name": "python",
   "nbconvert_exporter": "python",
   "pygments_lexer": "ipython3",
   "version": "3.9.12"
  }
 },
 "nbformat": 4,
 "nbformat_minor": 5
}
