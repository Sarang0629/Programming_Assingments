{
 "cells": [
  {
   "cell_type": "code",
   "execution_count": 1,
   "id": "f515a89a",
   "metadata": {},
   "outputs": [
    {
     "name": "stdout",
     "output_type": "stream",
     "text": [
      "Number of Recursions :  8\n",
      "Fibonacci sequence:\n",
      "0\n",
      "1\n",
      "1\n",
      "2\n",
      "3\n",
      "5\n",
      "8\n",
      "13\n"
     ]
    }
   ],
   "source": [
    "##1.\tWrite a Python Program to Display Fibonacci Sequence Using Recursion?\n",
    "#Ans.\n",
    "def recursion(n):  \n",
    "   if n <= 1:  \n",
    "       return n  \n",
    "   else:  \n",
    "       return(recursion(n-1) + recursion(n-2))  \n",
    "\n",
    "n1 = int(input(\"Number of Recursions :  \"))  \n",
    "\n",
    "if n1 <= 0:  \n",
    "   print(\"Plese enter a positive integer\")  \n",
    "else:  \n",
    "   print(\"Fibonacci sequence:\")  \n",
    "   for i in range(n1):  \n",
    "       print(recursion(i))  "
   ]
  },
  {
   "cell_type": "code",
   "execution_count": 3,
   "id": "bf4ed3cf",
   "metadata": {},
   "outputs": [
    {
     "name": "stdout",
     "output_type": "stream",
     "text": [
      "The Factorial of : 5\n",
      "The factorial of 5 is 120\n"
     ]
    }
   ],
   "source": [
    "##2.\tWrite a Python Program to Find Factorial of Number Using Recursion?\n",
    "#Ans.\n",
    "def recursion1(n):\n",
    "   if n == 1:\n",
    "       return n\n",
    "   else:\n",
    "       return n*recursion1(n-1)\n",
    "\n",
    "n = int(input(\"The Factorial of : \"))\n",
    "\n",
    "\n",
    "if n < 0:\n",
    "   print(\"Given input is Negative Try Again\")\n",
    "elif n == 0:\n",
    "   print(\"The factorial of 0 is 1\")\n",
    "else:\n",
    "   print(\"The factorial of\", n, \"is\", recursion1(n))"
   ]
  },
  {
   "cell_type": "code",
   "execution_count": 4,
   "id": "8dbcede2",
   "metadata": {},
   "outputs": [
    {
     "name": "stdout",
     "output_type": "stream",
     "text": [
      "Enter your height(m): 102\n",
      "Enter your weight(kg): 2\n",
      "BMI :  0.0\n"
     ]
    }
   ],
   "source": [
    "##3.\tWrite a Python Program to calculate your Body Mass Index?\n",
    "#Ans.\n",
    "\n",
    "height = float(input(\"Enter your height(m): \"))\n",
    "weight = float(input(\"Enter your weight(kg): \"))\n",
    "\n",
    "print(\"BMI : \", round(weight / (height * height), 2))"
   ]
  },
  {
   "cell_type": "code",
   "execution_count": 5,
   "id": "7ec1b64e",
   "metadata": {},
   "outputs": [
    {
     "name": "stdout",
     "output_type": "stream",
     "text": [
      "Number : 5\n",
      "1.6094379124341003\n"
     ]
    }
   ],
   "source": [
    "##4.\tWrite a Python Program to calculate the natural logarithm of any number?\n",
    "#Ans.\n",
    "import math\n",
    "\n",
    "a = float(input(\"Number : \"))\n",
    "\n",
    "print(math.log(a))"
   ]
  },
  {
   "cell_type": "code",
   "execution_count": 6,
   "id": "250ce9d7",
   "metadata": {},
   "outputs": [
    {
     "name": "stdout",
     "output_type": "stream",
     "text": [
      "Number : 45\n",
      "Sum of cubes = 1071225\n"
     ]
    }
   ],
   "source": [
    "##5.\tWrite a Python Program for cube sum of first n natural numbers?\n",
    "#Ans.\n",
    "N = float(input(\"Number : \"))\n",
    "\n",
    "value =  (int)( pow(( (N * (N+1))/2 ) , 2) )\n",
    "print(\"Sum of cubes =\",value)\n"
   ]
  },
  {
   "cell_type": "code",
   "execution_count": null,
   "id": "9c21838d",
   "metadata": {},
   "outputs": [],
   "source": []
  }
 ],
 "metadata": {
  "kernelspec": {
   "display_name": "Python 3 (ipykernel)",
   "language": "python",
   "name": "python3"
  },
  "language_info": {
   "codemirror_mode": {
    "name": "ipython",
    "version": 3
   },
   "file_extension": ".py",
   "mimetype": "text/x-python",
   "name": "python",
   "nbconvert_exporter": "python",
   "pygments_lexer": "ipython3",
   "version": "3.9.12"
  }
 },
 "nbformat": 4,
 "nbformat_minor": 5
}
