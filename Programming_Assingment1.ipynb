{
 "cells": [
  {
   "cell_type": "code",
   "execution_count": 1,
   "id": "c52d752b",
   "metadata": {},
   "outputs": [
    {
     "name": "stdout",
     "output_type": "stream",
     "text": [
      "Hello Python\n"
     ]
    }
   ],
   "source": [
    "##1.\tWrite a Python program to print \"Hello Python\"?\n",
    "#Ans.\n",
    "print(\"Hello Python\")"
   ]
  },
  {
   "cell_type": "code",
   "execution_count": 2,
   "id": "d226abe4",
   "metadata": {},
   "outputs": [
    {
     "name": "stdout",
     "output_type": "stream",
     "text": [
      "Value of a:1245\n",
      "Value of b:2356\n",
      "3601.0\n"
     ]
    }
   ],
   "source": [
    "##2.\tWrite a Python program to do arithmetical operations addition and division?\n",
    "\n",
    "#Ans.\n",
    "a = float(input(\"Value of a:\"))\n",
    "b = float(input(\"Value of b:\"))\n",
    "\n",
    "c= a + b\n",
    "\n",
    "print(c)"
   ]
  },
  {
   "cell_type": "code",
   "execution_count": 3,
   "id": "6121f0c7",
   "metadata": {},
   "outputs": [
    {
     "name": "stdout",
     "output_type": "stream",
     "text": [
      "Base:52\n",
      "Height:25\n",
      "650.0\n"
     ]
    }
   ],
   "source": [
    "##3.\tWrite a Python program to find the area of a triangle?\n",
    "\n",
    "#Ans.\n",
    "\n",
    "b = float(input(\"Base:\"))\n",
    "h = float(input(\"Height:\"))\n",
    "\n",
    "Area_of_Triangle = a = (b*h)/2\n",
    "\n",
    "print(a)"
   ]
  },
  {
   "cell_type": "code",
   "execution_count": 4,
   "id": "b7551896",
   "metadata": {},
   "outputs": [
    {
     "name": "stdout",
     "output_type": "stream",
     "text": [
      "a: 45\n",
      "b: 58\n",
      "a: 58.0 b: 45.0\n"
     ]
    }
   ],
   "source": [
    "##4.\tWrite a Python program to swap two variables?\n",
    "\n",
    "#Ans.\n",
    "a = float(input(\"a: \"))\n",
    "b = float(input(\"b: \"))\n",
    "\n",
    "a,b = b,a\n",
    "print(\"a:\",a,\"b:\",b)"
   ]
  },
  {
   "cell_type": "code",
   "execution_count": 5,
   "id": "c27b677e",
   "metadata": {},
   "outputs": [
    {
     "name": "stdout",
     "output_type": "stream",
     "text": [
      "a: 195\n"
     ]
    }
   ],
   "source": [
    "##5.\tWrite a Python program to generate a random number?\n",
    "\n",
    "#Ans.\n",
    "import random \n",
    "\n",
    "a = random.randint(0,1000)\n",
    "print(\"a:\",a)"
   ]
  }
 ],
 "metadata": {
  "kernelspec": {
   "display_name": "Python 3 (ipykernel)",
   "language": "python",
   "name": "python3"
  },
  "language_info": {
   "codemirror_mode": {
    "name": "ipython",
    "version": 3
   },
   "file_extension": ".py",
   "mimetype": "text/x-python",
   "name": "python",
   "nbconvert_exporter": "python",
   "pygments_lexer": "ipython3",
   "version": "3.9.12"
  }
 },
 "nbformat": 4,
 "nbformat_minor": 5
}
