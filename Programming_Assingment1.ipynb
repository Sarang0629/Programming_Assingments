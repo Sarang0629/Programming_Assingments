{
 "cells": [
  {
   "cell_type": "code",
   "execution_count": 1,
   "id": "1fbcc31a",
   "metadata": {},
   "outputs": [
    {
     "name": "stdout",
     "output_type": "stream",
     "text": [
      "Hello Python\n"
     ]
    }
   ],
   "source": [
    "##1.\tWrite a Python program to print \"Hello Python\"?\n",
    "#Ans.\n",
    "print(\"Hello Python\")"
   ]
  },
  {
   "cell_type": "code",
   "execution_count": 2,
   "id": "fec1ae94",
   "metadata": {},
   "outputs": [
    {
     "name": "stdout",
     "output_type": "stream",
     "text": [
      "Value of a:475\n",
      "Value of b:586\n",
      "c: 1061.0\n",
      "Value of a1:45\n",
      "Value of b1:15\n",
      "c1: 0.810580204778157\n"
     ]
    }
   ],
   "source": [
    "##2.\tWrite a Python program to do arithmetical operations addition and division?\n",
    "\n",
    "#Ans.\n",
    "a = float(input(\"Value of a:\"))\n",
    "b = float(input(\"Value of b:\"))\n",
    "c = a + b\n",
    "\n",
    "print(\"c:\",c)\n",
    "\n",
    "a1 = float(input(\"Value of a1:\"))\n",
    "b1 = float(input(\"Value of b1:\"))\n",
    "c1 = a / b\n",
    "\n",
    "\n",
    "print(\"c1:\",c1)"
   ]
  },
  {
   "cell_type": "code",
   "execution_count": 3,
   "id": "c358e44c",
   "metadata": {},
   "outputs": [
    {
     "name": "stdout",
     "output_type": "stream",
     "text": [
      "Base:52\n",
      "Height:653\n",
      "16978.0\n"
     ]
    }
   ],
   "source": [
    "##3.\tWrite a Python program to find the area of a triangle?\n",
    "\n",
    "#Ans.\n",
    "\n",
    "b = float(input(\"Base:\"))\n",
    "h = float(input(\"Height:\"))\n",
    "\n",
    "Area_of_Triangle = a = (b*h)/2\n",
    "\n",
    "print(a)"
   ]
  },
  {
   "cell_type": "code",
   "execution_count": 4,
   "id": "c7890a38",
   "metadata": {},
   "outputs": [
    {
     "name": "stdout",
     "output_type": "stream",
     "text": [
      "a: 15\n",
      "b: 24\n",
      "a: 24.0 b: 15.0\n"
     ]
    }
   ],
   "source": [
    "##4.\tWrite a Python program to swap two variables?\n",
    "\n",
    "#Ans.\n",
    "a = float(input(\"a: \"))\n",
    "b = float(input(\"b: \"))\n",
    "\n",
    "a,b = b,a\n",
    "print(\"a:\",a,\"b:\",b)"
   ]
  },
  {
   "cell_type": "code",
   "execution_count": 5,
   "id": "41b16d50",
   "metadata": {},
   "outputs": [
    {
     "name": "stdout",
     "output_type": "stream",
     "text": [
      "a: 709\n"
     ]
    }
   ],
   "source": [
    "##5.\tWrite a Python program to generate a random number?\n",
    "\n",
    "#Ans.\n",
    "import random \n",
    "\n",
    "a = random.randint(0,1000)\n",
    "print(\"a:\",a)"
   ]
  }
 ],
 "metadata": {
  "kernelspec": {
   "display_name": "Python 3 (ipykernel)",
   "language": "python",
   "name": "python3"
  },
  "language_info": {
   "codemirror_mode": {
    "name": "ipython",
    "version": 3
   },
   "file_extension": ".py",
   "mimetype": "text/x-python",
   "name": "python",
   "nbconvert_exporter": "python",
   "pygments_lexer": "ipython3",
   "version": "3.9.12"
  }
 },
 "nbformat": 4,
 "nbformat_minor": 5
}
