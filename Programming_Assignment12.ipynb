{
 "cells": [
  {
   "cell_type": "markdown",
   "id": "1aaf73a4",
   "metadata": {},
   "source": [
    "# Programming Assignment No. 12"
   ]
  },
  {
   "cell_type": "markdown",
   "id": "b6af27cd",
   "metadata": {},
   "source": [
    "**1. Write a Python program to Extract Unique values dictionary values?**"
   ]
  },
  {
   "cell_type": "code",
   "execution_count": 4,
   "id": "c42aed1e",
   "metadata": {},
   "outputs": [
    {
     "name": "stdout",
     "output_type": "stream",
     "text": [
      "Dictionary : {'Sarang': [29, 11, 1995], 'Arshad': [6, 9, 1995], 'Tushar': [21, 9, 199], 'Sandip': [29, 9, 1992]}\n",
      "Unique values are : [6, 9, 11, 21, 29, 199, 1992, 1995]\n"
     ]
    }
   ],
   "source": [
    "# Solution:\n",
    "a = {'Sarang' : [29,11,1995],\n",
    "'Arshad' : [6,9,1995],\n",
    "'Tushar' : [21,9,199],\n",
    "'Sandip' : [29,9,1992]}\n",
    "\n",
    "\n",
    "print(\"Dictionary : \" + str(a))\n",
    "\n",
    "\n",
    "x=[]\n",
    "for i in a.keys():\n",
    "    x.extend(a[i])\n",
    "x=list(set(x))\n",
    "x.sort()\n",
    "\n",
    "print(\"Unique values are : \" + str(x))\n"
   ]
  },
  {
   "cell_type": "markdown",
   "id": "6ec8e263",
   "metadata": {},
   "source": [
    "**2. Write a Python program to find the sum of all items in a dictionary?**"
   ]
  },
  {
   "cell_type": "code",
   "execution_count": 18,
   "id": "2860485a",
   "metadata": {},
   "outputs": [
    {
     "name": "stdout",
     "output_type": "stream",
     "text": [
      "Sum of Items in Dictionary : 3800\n"
     ]
    }
   ],
   "source": [
    "# Solution:\n",
    "def Sum_OF_Items(dict):\n",
    "    return sum(dict.values())\n",
    "\n",
    "\n",
    "dict = {'a': 600, 'b': 2700, 'c': 500}\n",
    "\n",
    "print(\"Sum of Items in Dictionary :\", Sum_OF_Items(dict))\n"
   ]
  },
  {
   "cell_type": "markdown",
   "id": "e8dd19ee",
   "metadata": {},
   "source": [
    "**3. Write a Python program to Merging two Dictionaries?**"
   ]
  },
  {
   "cell_type": "code",
   "execution_count": 22,
   "id": "4805569b",
   "metadata": {},
   "outputs": [
    {
     "name": "stdout",
     "output_type": "stream",
     "text": [
      "{1: 'a', 2: 'b', 3: 'c', 4: 'd', 5: 'e', 6: 'f'}\n"
     ]
    }
   ],
   "source": [
    "# Solution:\n",
    "a = {1: 'a', 2: 'b', 3: 'c'}\n",
    "b = {4: 'd', 5: 'e', 6 : 'f'}\n",
    "\n",
    "print(a | b)"
   ]
  },
  {
   "cell_type": "markdown",
   "id": "66f28bf7",
   "metadata": {},
   "source": [
    "**4. Write a Python program to convert key-values list to flat dictionary?**"
   ]
  },
  {
   "cell_type": "code",
   "execution_count": 3,
   "id": "3451848d",
   "metadata": {},
   "outputs": [
    {
     "name": "stdout",
     "output_type": "stream",
     "text": [
      "Dictionary : {'Brands': ['Maruti', 'Mahindra', 'Tata', 'Toyota', 'Hyundai', 'Kia'], 'Cars': ['Brezza', 'Scorpio-N', 'Punch', 'Fortuner', 'Creta', 'Seltos']}\n",
      "The flattened dictionary is: \n",
      "{'Maruti': 'Brezza', 'Mahindra': 'Scorpio-N', 'Tata': 'Punch', 'Toyota': 'Fortuner', 'Hyundai': 'Creta', 'Kia': 'Seltos'}\n"
     ]
    }
   ],
   "source": [
    "# Solution:\n",
    "\n",
    "from itertools import product\n",
    "\n",
    "a = {'Brands' : ['Maruti', 'Mahindra', 'Tata', 'Toyota', 'Hyundai', 'Kia'], \n",
    "        'Cars' : ['Brezza', 'Scorpio-N', 'Punch', 'Fortuner', 'Creta', 'Seltos']}\n",
    "\n",
    "print(\"Dictionary : \" +  str(a))\n",
    "\n",
    "\n",
    "a1 = dict(zip(a['Brands'], a['Cars']))\n",
    "\n",
    "print(\"The flattened dictionary is: \")\n",
    "print(a1)"
   ]
  },
  {
   "cell_type": "markdown",
   "id": "bdcceec7",
   "metadata": {},
   "source": [
    "**5. Write a Python program to insertion at the beginning in OrderedDict?**"
   ]
  },
  {
   "cell_type": "code",
   "execution_count": 21,
   "id": "b45d89e7",
   "metadata": {},
   "outputs": [
    {
     "name": "stdout",
     "output_type": "stream",
     "text": [
      "OrderedDict([('Price', [10, 20, 30, 40, 50, 60]), ('Brands', ['Maruti', 'Mahindra', 'Tata', 'Toyota', 'Hyundai', 'Kia']), ('Cars', ['Brezza', 'Scorpio-N', 'Punch', 'Fortuner', 'Creta', 'Seltos'])])\n"
     ]
    }
   ],
   "source": [
    "# Solution:\n",
    "\n",
    "from collections import OrderedDict\n",
    "d = OrderedDict([('Brands' , ['Maruti', 'Mahindra', 'Tata', 'Toyota', 'Hyundai', 'Kia']),         \n",
    "        ('Cars',['Brezza', 'Scorpio-N', 'Punch', 'Fortuner', 'Creta', 'Seltos'])])\n",
    "d.update({'Price' : [10,20,30,40,50,60]})\n",
    "d.move_to_end('Price',last = False)\n",
    "\n",
    "print(d)"
   ]
  },
  {
   "cell_type": "markdown",
   "id": "0d34226a",
   "metadata": {},
   "source": [
    "**6. Write a Python program to check order of character in string using OrderedDict()?**"
   ]
  },
  {
   "cell_type": "code",
   "execution_count": 26,
   "id": "88df2234",
   "metadata": {},
   "outputs": [
    {
     "name": "stdout",
     "output_type": "stream",
     "text": [
      "True\n"
     ]
    }
   ],
   "source": [
    "# Solution:\n",
    "from collections import OrderedDict\n",
    "\n",
    "def Order(string, pattern):\n",
    "    dict = OrderedDict.fromkeys(string)\n",
    "    ptrlen = 0\n",
    "    for key,value in dict.items():\n",
    "        if (key == pattern[ptrlen]):\n",
    "            ptrlen = ptrlen + 1\n",
    "        if (ptrlen == (len(pattern))):\n",
    "            return 'True'\n",
    "    return 'False'\n",
    "\n",
    "s = \"Sarang Narayanrao Chandekar\"\n",
    "p = \"SNC\"\n",
    "\n",
    "print(Order(s,p))"
   ]
  },
  {
   "cell_type": "markdown",
   "id": "27a71de6",
   "metadata": {},
   "source": [
    "**7. Write a Python program to sort Python Dictionaries by Key or Value?**"
   ]
  },
  {
   "cell_type": "code",
   "execution_count": 7,
   "id": "07cf3a7b",
   "metadata": {},
   "outputs": [
    {
     "name": "stdout",
     "output_type": "stream",
     "text": [
      "OrderedDict([('Anagha', 30), ('Sandip', 24), ('Sarang', 29), ('Tushar', 23), ('Vaishnavi', 9)])\n"
     ]
    }
   ],
   "source": [
    "# Sorting Dictionary By Key \n",
    "\n",
    "from collections import OrderedDict\n",
    " \n",
    "dict = {'Sarang': 29, 'Tushar': 23,\n",
    "        'Sandip': 24, 'Anagha': 30, 'Vaishnavi': 9}\n",
    "dict1 = OrderedDict(sorted(dict.items()))\n",
    "print(dict1)"
   ]
  },
  {
   "cell_type": "code",
   "execution_count": 17,
   "id": "a2c285d9",
   "metadata": {},
   "outputs": [
    {
     "name": "stdout",
     "output_type": "stream",
     "text": [
      "key_value {'Mango': 56, 'Orange': 2, 'Banana': 12, 'Apple': 24, 'Pomegranate': 18, 'Pineapple': 323}\n",
      "[('Orange', 2), ('Banana', 12), ('Pomegranate', 18), ('Apple', 24), ('Mango', 56), ('Pineapple', 323)]\n"
     ]
    }
   ],
   "source": [
    "# Sorting Dictionary By Value\n",
    "\n",
    "def Dictionary():\n",
    "    key_value = {}\n",
    "\n",
    "    key_value[\"Mango\"] = 56\n",
    "    key_value[\"Orange\"] = 2\n",
    "    key_value[\"Banana\"] = 12\n",
    "    key_value[\"Apple\"] = 24\n",
    "    key_value[\"Pomegranate\"] = 18\n",
    "    key_value[\"Pineapple\"] = 323\n",
    "    \n",
    "    print(\"key_value\",key_value)\n",
    "    \n",
    "    print(sorted(key_value.items(), key=lambda kv:\n",
    "                (kv[1], kv[0])))\n",
    "\n",
    "Dictionary()"
   ]
  }
 ],
 "metadata": {
  "kernelspec": {
   "display_name": "Python 3 (ipykernel)",
   "language": "python",
   "name": "python3"
  },
  "language_info": {
   "codemirror_mode": {
    "name": "ipython",
    "version": 3
   },
   "file_extension": ".py",
   "mimetype": "text/x-python",
   "name": "python",
   "nbconvert_exporter": "python",
   "pygments_lexer": "ipython3",
   "version": "3.9.12"
  }
 },
 "nbformat": 4,
 "nbformat_minor": 5
}
