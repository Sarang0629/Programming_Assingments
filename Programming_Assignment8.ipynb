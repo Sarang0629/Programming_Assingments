{
 "cells": [
  {
   "cell_type": "markdown",
   "id": "50190519",
   "metadata": {},
   "source": [
    "1.\tWrite a Python Program to Add Two Matrices?"
   ]
  },
  {
   "cell_type": "code",
   "execution_count": 2,
   "id": "9eb084ad",
   "metadata": {},
   "outputs": [
    {
     "name": "stdout",
     "output_type": "stream",
     "text": [
      "[133, 60, 82]\n",
      "[73, 75, 136]\n",
      "[128, 128, 88]\n"
     ]
    }
   ],
   "source": [
    "# Program to add two matrices using nested loop\n",
    "\n",
    "X = [[55,32,35],[7,30,62],[45,97,78]]\n",
    "\n",
    "Y = [[78,28,47],[66,45,74],[83,31,10]]\n",
    "\n",
    "\n",
    "result = [[0,0,0],[0,0,0],[0,0,0]]\n",
    "\n",
    "for i in range(len(X)):\n",
    "    for j in range(len(X[0])):\n",
    "        result[i][j] = X[i][j] + Y[i][j]\n",
    "\n",
    "for r in result:\n",
    "    print(r)\n"
   ]
  },
  {
   "cell_type": "markdown",
   "id": "8655cb9d",
   "metadata": {},
   "source": [
    "2. Write a Python Program to Multiply Two Matrices?"
   ]
  },
  {
   "cell_type": "code",
   "execution_count": 3,
   "id": "528e32c7",
   "metadata": {},
   "outputs": [
    {
     "name": "stdout",
     "output_type": "stream",
     "text": [
      "[4290, 896, 1645]\n",
      "[462, 1350, 4588]\n",
      "[3735, 3007, 780]\n"
     ]
    }
   ],
   "source": [
    "X = [[55,32,35],[7,30,62],[45,97,78]]\n",
    "\n",
    "Y = [[78,28,47],[66,45,74],[83,31,10]]\n",
    "\n",
    "\n",
    "result = [[0,0,0],[0,0,0],[0,0,0]]\n",
    "\n",
    "for i in range(len(X)):\n",
    "    for j in range(len(X[0])):\n",
    "        result[i][j] = X[i][j] * Y[i][j]\n",
    "\n",
    "for r in result:\n",
    "    print(r)"
   ]
  },
  {
   "cell_type": "markdown",
   "id": "737a5b87",
   "metadata": {},
   "source": [
    "3.\tWrite a Python Program to Transpose a Matrix?"
   ]
  },
  {
   "cell_type": "code",
   "execution_count": 5,
   "id": "ba76195b",
   "metadata": {},
   "outputs": [
    {
     "name": "stdout",
     "output_type": "stream",
     "text": [
      "[55, 32, 35]\n",
      "[7, 30, 62]\n",
      "[45, 97, 78]\n"
     ]
    }
   ],
   "source": [
    "X = [[55,32,35],[7,30,62],[45,97,78]]\n",
    "\n",
    "result = [[0,0,0],[0,0,0],[0,0,0]]\n",
    "\n",
    "for i in range(len(X)):\n",
    "    for j in range(len(X[0])):\n",
    "        result[i][j] = X[i][j]\n",
    "for r in result:\n",
    "    print(r)"
   ]
  },
  {
   "cell_type": "markdown",
   "id": "7bc25d51",
   "metadata": {},
   "source": [
    "4. Write a Python Program to Sort Words in Alphabetic Order?"
   ]
  },
  {
   "cell_type": "code",
   "execution_count": 10,
   "id": "3c5e087f",
   "metadata": {
    "scrolled": true
   },
   "outputs": [
    {
     "name": "stdout",
     "output_type": "stream",
     "text": [
      "Alphabetical Order is : \n",
      "alphabetical\n",
      "in\n",
      "order\n",
      "sorting\n",
      "words\n"
     ]
    }
   ],
   "source": [
    "a = \"Sorting words in alphabetical order\"\n",
    "\n",
    "words = [i.lower() for i in a.split()]\n",
    "\n",
    "words.sort()\n",
    "\n",
    "print(\"Alphabetical Order is : \")\n",
    "for word in words:\n",
    "   print(word)"
   ]
  },
  {
   "cell_type": "markdown",
   "id": "3d442dab",
   "metadata": {},
   "source": [
    "5. Write a Python Program to Remove Punctuation From a String?"
   ]
  },
  {
   "cell_type": "code",
   "execution_count": 18,
   "id": "8a68d714",
   "metadata": {},
   "outputs": [
    {
     "name": "stdout",
     "output_type": "stream",
     "text": [
      "My name is Sarang Narayanrao Chandekar\n"
     ]
    }
   ],
   "source": [
    "import string\n",
    "\n",
    "b = 'My name is Sarang/. Narayanrao; Chandekar,:'\n",
    "\n",
    "b = b.translate(str.maketrans('', '', string.punctuation))\n",
    "\n",
    "print(b)\n"
   ]
  },
  {
   "cell_type": "code",
   "execution_count": null,
   "id": "c2fd40af",
   "metadata": {},
   "outputs": [],
   "source": []
  }
 ],
 "metadata": {
  "kernelspec": {
   "display_name": "Python 3 (ipykernel)",
   "language": "python",
   "name": "python3"
  },
  "language_info": {
   "codemirror_mode": {
    "name": "ipython",
    "version": 3
   },
   "file_extension": ".py",
   "mimetype": "text/x-python",
   "name": "python",
   "nbconvert_exporter": "python",
   "pygments_lexer": "ipython3",
   "version": "3.9.12"
  }
 },
 "nbformat": 4,
 "nbformat_minor": 5
}
