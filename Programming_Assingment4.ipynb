{
 "cells": [
  {
   "cell_type": "code",
   "execution_count": 1,
   "id": "a0e61513",
   "metadata": {},
   "outputs": [
    {
     "name": "stdout",
     "output_type": "stream",
     "text": [
      "Enter a number: 1\n",
      "The factorial of 1 is 1\n"
     ]
    }
   ],
   "source": [
    "##1.\tWrite a Python Program to Find the Factorial of a Number?\n",
    "\n",
    "#Ans.\n",
    "\n",
    "def factorial(x):\n",
    "    if x == 1:\n",
    "        return 1\n",
    "    else:\n",
    "        return (x * factorial(x-1))\n",
    "    \n",
    "a = int(input(\"Enter a number: \"))\n",
    "\n",
    "b = factorial(a)\n",
    "\n",
    "print(\"The factorial of\", a, \"is\", b)"
   ]
  },
  {
   "cell_type": "code",
   "execution_count": 3,
   "id": "a0773be0",
   "metadata": {},
   "outputs": [
    {
     "name": "stdout",
     "output_type": "stream",
     "text": [
      "Table of: 12\n",
      "12 * 1 = 12\n",
      "12 * 2 = 24\n",
      "12 * 3 = 36\n",
      "12 * 4 = 48\n",
      "12 * 5 = 60\n",
      "12 * 6 = 72\n",
      "12 * 7 = 84\n",
      "12 * 8 = 96\n",
      "12 * 9 = 108\n",
      "12 * 10 = 120\n"
     ]
    }
   ],
   "source": [
    "##2.\tWrite a Python Program to Display the multiplication Table?\n",
    "\n",
    "#Ans.\n",
    "\n",
    "a = int(input(\"Table of: \"))\n",
    "\n",
    "\n",
    "for i in range(1, 11):\n",
    "   print(a, '*', i, '=', a*i)"
   ]
  },
  {
   "cell_type": "code",
   "execution_count": 4,
   "id": "51246564",
   "metadata": {},
   "outputs": [
    {
     "name": "stdout",
     "output_type": "stream",
     "text": [
      "Number: 2\n",
      "The fibonacci sequence of the numbers is:\n",
      "0\n",
      "1\n"
     ]
    }
   ],
   "source": [
    "##3.\tWrite a Python Program to Print the Fibonacci sequence?\n",
    "\n",
    "#Ans.\n",
    "n = int(input (\"Number: \"))  \n",
    "  \n",
    "# First two terms  \n",
    "n1 = 0  \n",
    "n2 = 1  \n",
    "count = 0  \n",
    "    \n",
    "if n <= 0:  \n",
    "    print (\"Please Enter a Positive Number\")  \n",
    "elif n == 1:  \n",
    "    print (\"The Fibonacci sequence of the numbers up to\", n, \": \")  \n",
    "    print(n1)  \n",
    "else:  \n",
    "    print (\"The fibonacci sequence of the numbers is:\")  \n",
    "    while count < n:  \n",
    "        print(n1)  \n",
    "        nth = n1 + n2 \n",
    "        n1 = n2  \n",
    "        n_2 = nth  \n",
    "        count += 1"
   ]
  },
  {
   "cell_type": "code",
   "execution_count": 5,
   "id": "cb8c8804",
   "metadata": {},
   "outputs": [
    {
     "name": "stdout",
     "output_type": "stream",
     "text": [
      "Enter the Number:2\n",
      "2 is an Armstrong number\n"
     ]
    }
   ],
   "source": [
    "##4.\tWrite a Python Program to Check Armstrong Number?\n",
    "#Ans.\n",
    "n = int(input(\"Enter the Number:\"))\n",
    "\n",
    "\n",
    "a = len(str(n))\n",
    "\n",
    "sum = 0\n",
    "\n",
    "\n",
    "b = n\n",
    "while b > 0:\n",
    "   digit = b % 10\n",
    "   sum += digit ** a\n",
    "   b //= 10\n",
    "\n",
    "if n == sum:\n",
    "   print(n,\"is an Armstrong number\")\n",
    "else:\n",
    "   print(n,\"is not an Armstrong number\")"
   ]
  },
  {
   "cell_type": "code",
   "execution_count": 9,
   "id": "6b40194b",
   "metadata": {},
   "outputs": [
    {
     "name": "stdout",
     "output_type": "stream",
     "text": [
      "Give the lower limit:1\n",
      "Give the upper limit:50\n",
      "1\n",
      "2\n",
      "3\n",
      "4\n",
      "5\n",
      "6\n",
      "7\n",
      "8\n",
      "9\n"
     ]
    }
   ],
   "source": [
    "##5.\tWrite a Python Program to Find Armstrong Number in an Interval?\n",
    "\n",
    "#Ans.\n",
    "l = int(input(\"Give the lower limit:\"))\n",
    "u = int(input(\"Give the upper limit:\"))\n",
    "\n",
    "for n in range(l, u + 1):\n",
    "   a = len(str(n))\n",
    "\n",
    "   sum = 0\n",
    "\n",
    "   b = n\n",
    "   while b > 0:\n",
    "       digit = b % 10\n",
    "       sum += digit ** a\n",
    "       b //= 10\n",
    "\n",
    "   if n == sum:\n",
    "       print(n)\n"
   ]
  },
  {
   "cell_type": "code",
   "execution_count": 10,
   "id": "0d7d52f1",
   "metadata": {},
   "outputs": [
    {
     "name": "stdout",
     "output_type": "stream",
     "text": [
      "Enter the Number:23\n",
      "The Sum of  23 is equal to 276\n"
     ]
    }
   ],
   "source": [
    "##6.\tWrite a Python Program to Find the Sum of Natural Numbers?\n",
    "\n",
    "#Ans.\n",
    "\n",
    "a = int(input(\"Enter the Number:\"))\n",
    "sum = 0\n",
    "\n",
    "for i in range(0, a+1, 1):\n",
    "    sum = sum+i\n",
    "print(\"The Sum of \",a,\"is equal to\",sum)\n"
   ]
  },
  {
   "cell_type": "code",
   "execution_count": null,
   "id": "0fc1641c",
   "metadata": {},
   "outputs": [],
   "source": []
  }
 ],
 "metadata": {
  "kernelspec": {
   "display_name": "Python 3 (ipykernel)",
   "language": "python",
   "name": "python3"
  },
  "language_info": {
   "codemirror_mode": {
    "name": "ipython",
    "version": 3
   },
   "file_extension": ".py",
   "mimetype": "text/x-python",
   "name": "python",
   "nbconvert_exporter": "python",
   "pygments_lexer": "ipython3",
   "version": "3.9.12"
  }
 },
 "nbformat": 4,
 "nbformat_minor": 5
}
