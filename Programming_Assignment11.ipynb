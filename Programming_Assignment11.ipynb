{
 "cells": [
  {
   "cell_type": "markdown",
   "id": "8ecf53ee",
   "metadata": {},
   "source": [
    "# Programming Assignment No.11"
   ]
  },
  {
   "cell_type": "markdown",
   "id": "c94b3ff6",
   "metadata": {},
   "source": [
    "**1.\tWrite a Python program to find words which are greater than given length k?**"
   ]
  },
  {
   "cell_type": "code",
   "execution_count": 7,
   "id": "78aaf769",
   "metadata": {},
   "outputs": [
    {
     "name": "stdout",
     "output_type": "stream",
     "text": [
      "Enter the Statment: My Name Is Sarang Narayanrao Chandekar\n",
      "Give the Length:6\n",
      "['Narayanrao', 'Chandekar']\n"
     ]
    }
   ],
   "source": [
    "def find(a_string , k):\n",
    "    string = []\n",
    "    temp = a_string.split(\" \")\n",
    "    \n",
    "    for i in temp:\n",
    "        if len(i) > k:\n",
    "            string.append(i)\n",
    "    return string\n",
    "\n",
    "a_string = str(input(\"Enter the Statment: \"))\n",
    "k = int(input(\"Give the Length:\"))\n",
    "\n",
    "print(find(a_string , k ))"
   ]
  },
  {
   "cell_type": "markdown",
   "id": "f3fb65bd",
   "metadata": {},
   "source": [
    "**2. Write a Python program for removing i-th character from a string?**"
   ]
  },
  {
   "cell_type": "code",
   "execution_count": 17,
   "id": "bb22d4aa",
   "metadata": {},
   "outputs": [
    {
     "name": "stdout",
     "output_type": "stream",
     "text": [
      "Input Statement: sara fsdfhig\n",
      "Index :5\n"
     ]
    },
    {
     "data": {
      "text/plain": [
       "'sara sdfhig'"
      ]
     },
     "execution_count": 17,
     "metadata": {},
     "output_type": "execute_result"
    }
   ],
   "source": [
    "def remove_element(string , i):\n",
    "    a = string[ : i]\n",
    "    b = string[i + 1 : ]\n",
    "    return a+b\n",
    "\n",
    "s = str(input(\"Input Statement: \"))\n",
    "i = int(input(\"Index :\"))\n",
    "remove_element(s,i)"
   ]
  },
  {
   "cell_type": "markdown",
   "id": "9153ab75",
   "metadata": {},
   "source": [
    "**3. Write a Python program to split and join a string?**"
   ]
  },
  {
   "cell_type": "code",
   "execution_count": 18,
   "id": "32cc12fe",
   "metadata": {},
   "outputs": [
    {
     "name": "stdout",
     "output_type": "stream",
     "text": [
      "Enter the String : My name is sarang chandekar\n",
      "['My', 'name', 'is', 'sarang', 'chandekar']\n",
      "My-name-is-sarang-chandekar\n"
     ]
    }
   ],
   "source": [
    "a = str(input(\"Enter the String : \"))\n",
    "print(a.split(\" \"))\n",
    "print(\"-\".join(a.split()))"
   ]
  },
  {
   "cell_type": "markdown",
   "id": "22122abb",
   "metadata": {},
   "source": [
    "**4. Write a Python to check if a given string is binary string or not?**"
   ]
  },
  {
   "cell_type": "code",
   "execution_count": 24,
   "id": "cf345312",
   "metadata": {},
   "outputs": [
    {
     "name": "stdout",
     "output_type": "stream",
     "text": [
      "Statement : 963\n",
      "No\n"
     ]
    }
   ],
   "source": [
    "a = str(input(\"Statement : \"))\n",
    "\n",
    "if(a.count('0')+a.count('1')==len(a)):\n",
    "    print(\"Yes\")\n",
    "else:\n",
    "    print(\"No\")"
   ]
  },
  {
   "cell_type": "markdown",
   "id": "e52242d1",
   "metadata": {},
   "source": [
    "**5. Write a Python program to find uncommon words from two Strings?**"
   ]
  },
  {
   "cell_type": "code",
   "execution_count": 28,
   "id": "46f56870",
   "metadata": {},
   "outputs": [
    {
     "name": "stdout",
     "output_type": "stream",
     "text": [
      "Statement 01 : sarang fsdfdssdf\n",
      "Statement 02 : sarang fdsdbbdbrh\n"
     ]
    },
    {
     "data": {
      "text/plain": [
       "' fsdfdssdf fdsdbbdbrh'"
      ]
     },
     "execution_count": 28,
     "metadata": {},
     "output_type": "execute_result"
    }
   ],
   "source": [
    "def uncommon(a,b):\n",
    "    list1 = a.split()\n",
    "    list2 = b.split()\n",
    "    uncommon_word = ''\n",
    "    for i in list1:\n",
    "        if i not in list2:\n",
    "            uncommon_word = uncommon_word + \" \" + i\n",
    "    for j in list2:\n",
    "        if j not in list1:\n",
    "            uncommon_word = uncommon_word+\" \"+ j\n",
    "  \n",
    "    return uncommon_word\n",
    "\n",
    "a = str(input(\"Statement 01 : \"))\n",
    "b = str(input(\"Statement 02 : \"))\n",
    "\n",
    "uncommon(a,b)"
   ]
  },
  {
   "cell_type": "markdown",
   "id": "56bfe110",
   "metadata": {},
   "source": [
    "**6. Write a Python to find all duplicate characters in string?**"
   ]
  },
  {
   "cell_type": "code",
   "execution_count": 31,
   "id": "f7d42f15",
   "metadata": {},
   "outputs": [
    {
     "name": "stdout",
     "output_type": "stream",
     "text": [
      "a r n  \n"
     ]
    }
   ],
   "source": [
    "def duplicate(string):\n",
    "    x=[]\n",
    "    for i in string:\n",
    "        if i not in x and string.count(i)>1:\n",
    "            x.append(i)\n",
    "    print(\" \".join(x))\n",
    "\n",
    "a = 'sarang narayarao chandekar'\n",
    "duplicate(a)\n"
   ]
  },
  {
   "cell_type": "markdown",
   "id": "d80e4645",
   "metadata": {},
   "source": [
    "**7. Write a Python Program to check if a string contains any special character?**"
   ]
  },
  {
   "cell_type": "code",
   "execution_count": 38,
   "id": "2c8ba638",
   "metadata": {},
   "outputs": [
    {
     "name": "stdout",
     "output_type": "stream",
     "text": [
      "String has special characters\n"
     ]
    }
   ],
   "source": [
    "import re\n",
    "\n",
    "def check(string):\n",
    "\n",
    "    regex = re.compile('[@_!#$%^&*()<>?/\\|}{~:]')\n",
    "    if(regex.search(string) == None):\n",
    "        print(\"String has no special characters\")\n",
    "\n",
    "    else:\n",
    "        print(\"String has special characters\")\n",
    "\n",
    "s = \"Sarang%$narayanrao&^*chandekar\"\n",
    "check(s)"
   ]
  }
 ],
 "metadata": {
  "kernelspec": {
   "display_name": "Python 3 (ipykernel)",
   "language": "python",
   "name": "python3"
  },
  "language_info": {
   "codemirror_mode": {
    "name": "ipython",
    "version": 3
   },
   "file_extension": ".py",
   "mimetype": "text/x-python",
   "name": "python",
   "nbconvert_exporter": "python",
   "pygments_lexer": "ipython3",
   "version": "3.9.12"
  }
 },
 "nbformat": 4,
 "nbformat_minor": 5
}
