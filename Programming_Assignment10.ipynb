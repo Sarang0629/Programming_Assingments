{
 "cells": [
  {
   "cell_type": "markdown",
   "id": "d15d3d6c",
   "metadata": {},
   "source": [
    "1.\tWrite a Python program to find sum of elements in list?"
   ]
  },
  {
   "cell_type": "code",
   "execution_count": 1,
   "id": "b3e2dc64",
   "metadata": {},
   "outputs": [
    {
     "name": "stdout",
     "output_type": "stream",
     "text": [
      "Sum of all elements in given list:  100\n"
     ]
    }
   ],
   "source": [
    "temp = 0\n",
    "a = [29,26,27,5,6,7]\n",
    "\n",
    "for i in range(0,len(a)):\n",
    "    temp = temp + a[i]\n",
    "print(\"Sum of all elements in given list: \", temp)\n"
   ]
  },
  {
   "cell_type": "markdown",
   "id": "ec896cd2",
   "metadata": {},
   "source": [
    "2.\tWrite a Python program to  Multiply all numbers in the list?"
   ]
  },
  {
   "cell_type": "code",
   "execution_count": 2,
   "id": "dca9819b",
   "metadata": {},
   "outputs": [
    {
     "name": "stdout",
     "output_type": "stream",
     "text": [
      "6\n",
      "24\n"
     ]
    }
   ],
   "source": [
    "def multi_list(list) :\n",
    "    result = 1\n",
    "    for x in list:\n",
    "        result = result * x\n",
    "    return result\n",
    "\n",
    "\n",
    "b = [1, 2, 3]\n",
    "c = [3, 2, 4]\n",
    "print(multi_list(b))\n",
    "print(multi_list(c))\n"
   ]
  },
  {
   "cell_type": "markdown",
   "id": "a00324ec",
   "metadata": {},
   "source": [
    "3.\tWrite a Python program to find smallest number in a list?"
   ]
  },
  {
   "cell_type": "code",
   "execution_count": 3,
   "id": "2a0f56d8",
   "metadata": {},
   "outputs": [
    {
     "name": "stdout",
     "output_type": "stream",
     "text": [
      "Smallest Number in the given list: 1\n"
     ]
    }
   ],
   "source": [
    "d = [10, 20, 1, 45, 99]\n",
    "print(\"Smallest Number in the given list:\", min(d))\n"
   ]
  },
  {
   "cell_type": "markdown",
   "id": "ebadef79",
   "metadata": {},
   "source": [
    "4.\tWrite a Python program to find largest number in a list?"
   ]
  },
  {
   "cell_type": "code",
   "execution_count": 4,
   "id": "0299439d",
   "metadata": {},
   "outputs": [
    {
     "name": "stdout",
     "output_type": "stream",
     "text": [
      "Largest Number in the given list: 99\n"
     ]
    }
   ],
   "source": [
    "d = [10, 20, 1, 45, 99]\n",
    "print(\"Largest Number in the given list:\", max(d))"
   ]
  },
  {
   "cell_type": "markdown",
   "id": "213c57ac",
   "metadata": {},
   "source": [
    "5. Write a Python program to find second largest number in a list?"
   ]
  },
  {
   "cell_type": "code",
   "execution_count": 5,
   "id": "83da75b9",
   "metadata": {},
   "outputs": [
    {
     "name": "stdout",
     "output_type": "stream",
     "text": [
      "Second largest number is :  396\n"
     ]
    }
   ],
   "source": [
    "e = [12,52,69,66,75,369,396,456]\n",
    " \n",
    "mx = max(e[0], e[1])\n",
    "secondmax = min(e[0], e[1])\n",
    "n = len(e)\n",
    "for i in range(2,n):\n",
    "    if e[i] > mx:\n",
    "        secondmax = mx\n",
    "        mx = e[i]\n",
    "    elif e[i] > secondmax and \\\n",
    "        mx != e[i]:\n",
    "        secondmax = e[i]\n",
    "    elif mx == secondmax and \\\n",
    "        secondmax != e[i]:\n",
    "          secondmax = e[i]\n",
    " \n",
    "print(\"Second largest number is : \",\\\n",
    "      str(secondmax))"
   ]
  },
  {
   "cell_type": "markdown",
   "id": "56ee48b0",
   "metadata": {},
   "source": [
    "6.\tWrite a Python program to find N largest elements from a list?"
   ]
  },
  {
   "cell_type": "code",
   "execution_count": 6,
   "id": "bd329936",
   "metadata": {},
   "outputs": [
    {
     "name": "stdout",
     "output_type": "stream",
     "text": [
      "[852, 987, 2365, 63325]\n"
     ]
    }
   ],
   "source": [
    "l = [123,987,654,369,852,147,2365,214,5,63325]\n",
    "n = 4\n",
    "  \n",
    "l.sort()\n",
    "print(l[-n:])"
   ]
  },
  {
   "cell_type": "markdown",
   "id": "552ec813",
   "metadata": {},
   "source": [
    "7.\tWrite a Python program to print even numbers in a list?"
   ]
  },
  {
   "cell_type": "code",
   "execution_count": 7,
   "id": "baf2090e",
   "metadata": {},
   "outputs": [
    {
     "name": "stdout",
     "output_type": "stream",
     "text": [
      "12 44 66 98 "
     ]
    }
   ],
   "source": [
    "a = [12,35,44,66,98,25,37,35]\n",
    "for i in a:\n",
    "        if i %2 == 0:\n",
    "            print(i ,end = \" \")"
   ]
  },
  {
   "cell_type": "markdown",
   "id": "197910e8",
   "metadata": {},
   "source": [
    "8.\tWrite a Python program to print odd numbers in a List?"
   ]
  },
  {
   "cell_type": "code",
   "execution_count": 8,
   "id": "7ef7cacb",
   "metadata": {},
   "outputs": [
    {
     "name": "stdout",
     "output_type": "stream",
     "text": [
      "35 25 37 35 "
     ]
    }
   ],
   "source": [
    "a = [12,35,44,66,98,25,37,35]\n",
    "for i in a:\n",
    "        if i %2 == 0:\n",
    "            pass\n",
    "        else:\n",
    "            print(i,end=\" \")"
   ]
  },
  {
   "cell_type": "markdown",
   "id": "7a744ea9",
   "metadata": {},
   "source": [
    "9.\tWrite a Python program to Remove empty List from List?"
   ]
  },
  {
   "cell_type": "code",
   "execution_count": 9,
   "id": "3dd286b0",
   "metadata": {},
   "outputs": [
    {
     "name": "stdout",
     "output_type": "stream",
     "text": [
      "[2, 'Sarang', 39, 'fruits', 786, 963, 75]\n"
     ]
    }
   ],
   "source": [
    "list = [2,[],\"Sarang\",39,[],\"fruits\",786,963,75,[],[]]\n",
    "list2 = []\n",
    "for i in list:\n",
    "    if i != []:\n",
    "        list2.append(i)\n",
    "print(list2)"
   ]
  },
  {
   "cell_type": "markdown",
   "id": "243ebac1",
   "metadata": {},
   "source": [
    "10.\tWrite a Python program to Cloning or Copying a list?"
   ]
  },
  {
   "cell_type": "code",
   "execution_count": 10,
   "id": "5ea7ad60",
   "metadata": {},
   "outputs": [
    {
     "name": "stdout",
     "output_type": "stream",
     "text": [
      "['Laptop', 25000, 789, 'mouse', 'keyboard', 256]\n"
     ]
    }
   ],
   "source": [
    "l = [\"Laptop\",25000,789,\"mouse\",\"keyboard\",256]\n",
    "import copy\n",
    "\n",
    "l1 = copy.deepcopy(l)\n",
    "print(l1)"
   ]
  },
  {
   "cell_type": "markdown",
   "id": "e37620a3",
   "metadata": {},
   "source": [
    "11.\tWrite a Python program to Count occurrences of an element in a list?"
   ]
  },
  {
   "cell_type": "code",
   "execution_count": 11,
   "id": "c6b88a3c",
   "metadata": {},
   "outputs": [
    {
     "name": "stdout",
     "output_type": "stream",
     "text": [
      "22      3\n",
      "663     2\n",
      "77      1\n",
      "89      1\n",
      "44      1\n",
      "55      1\n",
      "33      1\n",
      "1144    1\n",
      "66      1\n",
      "dtype: int64\n"
     ]
    }
   ],
   "source": [
    "import pandas as pd\n",
    "l = [22,77,89,663,44,22,22,55,33,1144,66,663]\n",
    "\n",
    "number_of_occurence = pd.Series(l).value_counts()\n",
    "print(number_of_occurence)"
   ]
  }
 ],
 "metadata": {
  "kernelspec": {
   "display_name": "Python 3 (ipykernel)",
   "language": "python",
   "name": "python3"
  },
  "language_info": {
   "codemirror_mode": {
    "name": "ipython",
    "version": 3
   },
   "file_extension": ".py",
   "mimetype": "text/x-python",
   "name": "python",
   "nbconvert_exporter": "python",
   "pygments_lexer": "ipython3",
   "version": "3.9.12"
  }
 },
 "nbformat": 4,
 "nbformat_minor": 5
}
